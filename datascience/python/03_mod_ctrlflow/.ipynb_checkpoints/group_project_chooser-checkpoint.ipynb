{
 "cells": [
  {
   "cell_type": "markdown",
   "metadata": {},
   "source": [
    "Data Science Fundamentals: Python |\n",
    "[Table of Contents](../index.ipynb)\n",
    "- - - \n",
    "<!--NAVIGATION-->\n",
    "Module 3. [Control Flow](./01_mod_control_flow.ipynb) | [Statements](./02_python_statements.ipynb) | [Functions](./03_python_functions.ipynb) | **[Exercises](./04_mod_exercises.ipynb)**\n",
    "<!--NAVIGATION-->\n",
    "Supplemental. [While Loops](./supplemental/01_while-loop.ipynb) | [If Elif Else](./supplemental/02_if-elif-else.ipynb) | [Break Continue](./supplemental/03_break_continue.ipynb) | [For Loops](./04_for_loop.ipynb)\n",
    "<!--NAVIGATION-->\n",
    "Optional. [Writing Assignment](./optional/writing_assignment.ipynb) | [Real World Examples](./optional/real_world_examples.ipynb)"
   ]
  },
  {
   "cell_type": "markdown",
   "metadata": {},
   "source": [
    "## Project and Exercises Break Down"
   ]
  },
  {
   "cell_type": "markdown",
   "metadata": {},
   "source": [
    "#### Random Chooser and Remover"
   ]
  },
  {
   "cell_type": "code",
   "execution_count": 80,
   "metadata": {},
   "outputs": [
    {
     "name": "stdout",
     "output_type": "stream",
     "text": [
      "[['Nas Tajin'], ['Beverly Quon'], ['Breana East'], ['Natalie Bautista'], ['Rediet Erro'], ['Omar Alonso'], ['Aida Ayala'], ['Parker Jenkins'], ['Byron Mitchell'], ['Leia Fooks'], ['Floranne Ellington'], ['Joshua Akainda'], ['Lizbeth Rangel Lara'], ['Teresa Roberson'], ['Delaney Swann'], ['Mi Ho'], ['Raul Montellano']]\n"
     ]
    }
   ],
   "source": [
    "import csv\n",
    "\n",
    "with open('data/students.csv', newline='') as f:\n",
    "    reader = csv.reader(f)\n",
    "    data = list(reader)\n",
    "\n",
    "print(data)"
   ]
  },
  {
   "cell_type": "code",
   "execution_count": 25,
   "metadata": {},
   "outputs": [
    {
     "name": "stdout",
     "output_type": "stream",
     "text": [
      "['Delaney Swann']\n"
     ]
    }
   ],
   "source": [
    "import random\n",
    "random_item_from_list = random.choice(data)\n",
    "data.remove(random_item_from_list)\n",
    "print(random_item_from_list)\n",
    "# print(data)"
   ]
  },
  {
   "cell_type": "markdown",
   "metadata": {},
   "source": [
    "#### Shuffle Students Into New List"
   ]
  },
  {
   "cell_type": "code",
   "execution_count": 35,
   "metadata": {},
   "outputs": [
    {
     "name": "stdout",
     "output_type": "stream",
     "text": [
      "Original list: \n",
      "\n",
      " [['Rediet Erro'], ['Omar Alonso'], ['Teresa Roberson'], ['Raul Montellano'], ['Aida Ayala'], ['Nas Tajin'], ['Joshua Akainda'], ['Floranne Ellington'], ['Leia Fooks'], ['Mi Ho'], ['Nathan Jenkins'], ['Breana East'], ['Beverly Quon'], ['Natalie Bautista'], ['Byron Mitchell'], ['Lizbeth Rangel Lara']]\n",
      "\n",
      "List after first shuffle: \n",
      "\n",
      " [['Teresa Roberson'], ['Lizbeth Rangel Lara'], ['Beverly Quon'], ['Natalie Bautista'], ['Nathan Jenkins'], ['Leia Fooks'], ['Aida Ayala'], ['Omar Alonso'], ['Rediet Erro'], ['Nas Tajin'], ['Floranne Ellington'], ['Byron Mitchell'], ['Raul Montellano'], ['Joshua Akainda'], ['Mi Ho'], ['Breana East']]\n",
      "\n",
      "List after second shuffle: \n",
      "\n",
      " [['Joshua Akainda'], ['Byron Mitchell'], ['Raul Montellano'], ['Lizbeth Rangel Lara'], ['Breana East'], ['Nathan Jenkins'], ['Teresa Roberson'], ['Leia Fooks'], ['Mi Ho'], ['Rediet Erro'], ['Aida Ayala'], ['Omar Alonso'], ['Natalie Bautista'], ['Beverly Quon'], ['Nas Tajin'], ['Floranne Ellington']]\n"
     ]
    }
   ],
   "source": [
    "import random\n",
    "\n",
    "number_list = [7, 14, 21, 28, 35, 42, 49, 56, 63, 70]\n",
    "print(\"Original list: \\n\\n\", data)\n",
    "\n",
    "random.shuffle(data)\n",
    "print(\"\\nList after first shuffle: \\n\\n\", data)\n",
    "\n",
    "random.shuffle(data)\n",
    "print(\"\\nList after second shuffle: \\n\\n\", data)"
   ]
  },
  {
   "cell_type": "markdown",
   "metadata": {},
   "source": [
    "<hr>"
   ]
  },
  {
   "cell_type": "markdown",
   "metadata": {},
   "source": [
    "### Add the List of Students"
   ]
  },
  {
   "cell_type": "code",
   "execution_count": 76,
   "metadata": {},
   "outputs": [
    {
     "name": "stdout",
     "output_type": "stream",
     "text": [
      "Students: ['Nas Tajin', 'Beverly Quon', 'Breana East', 'Natalie Bautista', 'Rediet Erro', 'Omar Alonso', 'Aida Ayala', 'Parker Jenkins', 'Byron Mitchell', 'Leia Fooks', 'Floranne Ellington', 'Joshua Akainda', 'Lizbeth Rangel Lara', 'Teresa Roberson', 'Delaney Swann', 'Mi Ho', 'Raul Montellano']\n"
     ]
    }
   ],
   "source": [
    "from random import choice\n",
    "#create a list of players from a file \n",
    "students = []\n",
    "file = open('data/students.csv', 'r')\n",
    "students = file.read().splitlines()\n",
    "print('Students:', students)"
   ]
  },
  {
   "cell_type": "markdown",
   "metadata": {},
   "source": [
    "### Add The Team Names"
   ]
  },
  {
   "cell_type": "code",
   "execution_count": 77,
   "metadata": {},
   "outputs": [
    {
     "name": "stdout",
     "output_type": "stream",
     "text": [
      "Team Names: ['Web Scraping', 'Automation', 'Messaging', 'Games', 'Mobile', 'Computer Vision', 'Chatbot', 'Salary Analysis', 'COVID-19', 'Spanish Flu', 'US Presidential Election', 'Stockscore']\n"
     ]
    }
   ],
   "source": [
    "#create a list of team names from a file \n",
    "TeamNames = []\n",
    "file = open('data/projects.csv', 'r')\n",
    "TeamNames = file.read().splitlines()\n",
    "print('Team Names:', TeamNames)"
   ]
  },
  {
   "cell_type": "markdown",
   "metadata": {},
   "source": [
    "### Pick Students For Teams"
   ]
  },
  {
   "cell_type": "code",
   "execution_count": 78,
   "metadata": {},
   "outputs": [],
   "source": [
    "#create empty team lists \n",
    "\n",
    "teamA = []\n",
    "teamB = []\n",
    "teamC = []\n",
    "teamD = []\n",
    "teamE = []\n",
    "teamF = []\n",
    "teamG = []\n",
    "teamH = []\n",
    "teamI = []\n",
    "teamJ = []\n",
    "teamK = []\n",
    "teamL = []\n",
    "\n",
    "# loop until there are no players left \n",
    "while len(students) > 0: \n",
    "\n",
    "   #choose a random player for teamA and remove the player from the players list \n",
    "   playerA = (choice(students)) \n",
    "   teamA.append(playerA) \n",
    "   students.remove(playerA) \n",
    "\n",
    "#break out of the loop if there are no players left \n",
    "   if students == []: \n",
    "      break \n",
    "\n",
    "#choose a random player for teamB and remove the player from the players list \n",
    "\n",
    "   playerB = (choice(students)) \n",
    "   teamB.append(playerB) \n",
    "   students.remove(playerB) \n",
    "    \n",
    "    #break out of the loop if there are no players left \n",
    "   if students == []: \n",
    "      break \n",
    "\n",
    "#choose a random player for teamB and remove the player from the players list \n",
    "\n",
    "   playerC = (choice(students)) \n",
    "   teamC.append(playerC) \n",
    "   students.remove(playerC) \n",
    "\n",
    "#break out of the loop if there are no players left \n",
    "   if students == []: \n",
    "      break \n",
    "\n",
    "#choose a random player for teamB and remove the player from the players list \n",
    "\n",
    "   playerD = (choice(students)) \n",
    "   teamD.append(playerD) \n",
    "   students.remove(playerD) \n",
    "    \n",
    "#break out of the loop if there are no players left \n",
    "   if students == []: \n",
    "      break \n",
    "\n",
    "#choose a random player for teamB and remove the player from the players list \n",
    "\n",
    "   playerE = (choice(students)) \n",
    "   teamE.append(playerE) \n",
    "   students.remove(playerE) \n",
    "    \n",
    "#break out of the loop if there are no players left \n",
    "   if students == []: \n",
    "      break \n",
    "\n",
    "#choose a random player for teamB and remove the player from the players list \n",
    "\n",
    "   playerF = (choice(students)) \n",
    "   teamF.append(playerF) \n",
    "   students.remove(playerF) \n",
    "    \n",
    "    #break out of the loop if there are no players left \n",
    "   if students == []: \n",
    "      break \n",
    "\n",
    "#choose a random player for teamB and remove the player from the players list \n",
    "\n",
    "   playerG = (choice(students)) \n",
    "   teamG.append(playerG) \n",
    "   students.remove(playerG) \n",
    "    \n",
    "#break out of the loop if there are no players left \n",
    "   if students == []: \n",
    "      break \n",
    "\n",
    "#choose a random player for teamB and remove the player from the players list \n",
    "\n",
    "   playerH = (choice(students)) \n",
    "   teamH.append(playerH) \n",
    "   students.remove(playerH) \n",
    "    \n",
    "#break out of the loop if there are no players left \n",
    "   if students == []: \n",
    "      break \n",
    "\n",
    "#choose a random player for teamB and remove the player from the players list \n",
    "\n",
    "   playerI = (choice(students)) \n",
    "   teamI.append(playerI) \n",
    "   students.remove(playerI) \n",
    "    \n",
    "#break out of the loop if there are no players left \n",
    "   if students == []: \n",
    "      break \n",
    "\n",
    "#choose a random player for teamB and remove the player from the players list \n",
    "\n",
    "   playerJ = (choice(students)) \n",
    "   teamJ.append(playerJ) \n",
    "   students.remove(playerJ) \n",
    "    \n",
    "#break out of the loop if there are no players left \n",
    "   if students == []: \n",
    "      break \n",
    "\n",
    "#choose a random player for teamB and remove the player from the players list \n",
    "\n",
    "   playerK = (choice(students)) \n",
    "   teamK.append(playerK) \n",
    "   students.remove(playerK) \n",
    "    \n",
    "#break out of the loop if there are no players left \n",
    "   if students == []: \n",
    "      break \n",
    "\n",
    "#choose a random player for teamB and remove the player from the players list \n",
    "\n",
    "   playerL = (choice(students)) \n",
    "   teamL.append(playerL) \n",
    "   students.remove(playerL) \n",
    "    \n",
    "#choose random team names for the 11 teams \n",
    "teamname1 = choice(TeamNames)\n",
    "TeamNames.remove(teamname1)\n",
    "\n",
    "teamname2 = choice(TeamNames)\n",
    "TeamNames.remove(teamname2)\n",
    "\n",
    "teamname3 = choice(TeamNames)\n",
    "TeamNames.remove(teamname3)\n",
    "\n",
    "teamname4 = choice(TeamNames)\n",
    "TeamNames.remove(teamname4)\n",
    "\n",
    "teamname5 = choice(TeamNames)\n",
    "TeamNames.remove(teamname5)\n",
    "\n",
    "teamname6 = choice(TeamNames)\n",
    "TeamNames.remove(teamname6)\n",
    "\n",
    "teamname7 = choice(TeamNames)\n",
    "TeamNames.remove(teamname7)\n",
    "\n",
    "teamname8 = choice(TeamNames)\n",
    "TeamNames.remove(teamname8)\n",
    "\n",
    "teamname9 = choice(TeamNames)\n",
    "TeamNames.remove(teamname9)\n",
    "\n",
    "teamname10 = choice(TeamNames)\n",
    "TeamNames.remove(teamname10)\n",
    "\n",
    "teamname11 = choice(TeamNames)\n",
    "TeamNames.remove(teamname11)\n",
    "\n",
    "\n"
   ]
  },
  {
   "cell_type": "markdown",
   "metadata": {},
   "source": [
    "### Print Out Team Names"
   ]
  },
  {
   "cell_type": "code",
   "execution_count": 79,
   "metadata": {},
   "outputs": [
    {
     "name": "stdout",
     "output_type": "stream",
     "text": [
      "\n",
      "Here are your teams:\n",
      "\n",
      "Web Scraping ['Rediet Erro', 'Beverly Quon']\n",
      "Spanish Flu ['Floranne Ellington', 'Leia Fooks']\n",
      "Automation ['Breana East', 'Joshua Akainda']\n",
      "Games ['Natalie Bautista', 'Parker Jenkins']\n",
      "Salary Analysis ['Lizbeth Rangel Lara', 'Delaney Swann']\n",
      "Chatbot ['Omar Alonso']\n",
      "US Presidential Election ['Raul Montellano']\n",
      "Stockscore ['Mi Ho']\n",
      "Mobile ['Nas Tajin']\n",
      "COVID-19 ['Aida Ayala']\n",
      "Computer Vision ['Teresa Roberson']\n"
     ]
    }
   ],
   "source": [
    "#print the teams \n",
    "print('\\nHere are your teams:\\n')\n",
    "print(teamname1, teamA)\n",
    "print(teamname2, teamB)\n",
    "print(teamname3, teamC)\n",
    "print(teamname4, teamD)\n",
    "print(teamname5, teamE)\n",
    "print(teamname6, teamF)\n",
    "print(teamname7, teamG)\n",
    "print(teamname8, teamH)\n",
    "print(teamname9, teamI)\n",
    "print(teamname10, teamJ)\n",
    "print(teamname11, teamK)"
   ]
  },
  {
   "cell_type": "markdown",
   "metadata": {},
   "source": [
    "## Team Chunker"
   ]
  },
  {
   "cell_type": "code",
   "execution_count": 5,
   "metadata": {},
   "outputs": [],
   "source": [
    "import random\n",
    "\n",
    "def chunks(l, n):\n",
    "    \"\"\"Yield successive n-sized chunks from l.\"\"\"\n",
    "    for i in range(0, len(l), n):\n",
    "        yield l[i:i + n]\n",
    "\n",
    "n = ['Web Scraping', 'Stock Score', 'Mobile/Gaming', 'Chatbot', 'Computer Vision', 'Salary Analysis']\n",
    "\n",
    "random.shuffle(n)"
   ]
  },
  {
   "cell_type": "code",
   "execution_count": 6,
   "metadata": {},
   "outputs": [
    {
     "data": {
      "text/plain": [
       "[['Computer Vision', 'Chatbot', 'Stock Score'],\n",
       " ['Salary Analysis', 'Web Scraping', 'Mobile/Gaming']]"
      ]
     },
     "execution_count": 6,
     "metadata": {},
     "output_type": "execute_result"
    }
   ],
   "source": [
    "list(chunks(n, 3))"
   ]
  },
  {
   "cell_type": "code",
   "execution_count": null,
   "metadata": {},
   "outputs": [],
   "source": []
  }
 ],
 "metadata": {
  "kernelspec": {
   "display_name": "Python 3",
   "language": "python",
   "name": "python3"
  },
  "language_info": {
   "codemirror_mode": {
    "name": "ipython",
    "version": 3
   },
   "file_extension": ".py",
   "mimetype": "text/x-python",
   "name": "python",
   "nbconvert_exporter": "python",
   "pygments_lexer": "ipython3",
   "version": "3.8.5"
  }
 },
 "nbformat": 4,
 "nbformat_minor": 4
}
